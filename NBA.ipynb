{
 "cells": [
  {
   "cell_type": "code",
   "execution_count": 17,
   "metadata": {},
   "outputs": [],
   "source": [
    "import pandas as pd\n",
    "import numpy as np\n",
    "import matplotlib.pyplot as plt\n",
    "import nbextensions\n",
    "import math\n",
    "import statsmodels.api as sm\n",
    "import statsmodels.formula.api as smf\n",
    "from scipy.stats import norm\n",
    "import scipy.optimize as opt"
   ]
  },
  {
   "cell_type": "code",
   "execution_count": 18,
   "metadata": {
    "collapsed": true
   },
   "outputs": [],
   "source": [
    "%matplotlib inline"
   ]
  },
  {
   "cell_type": "code",
   "execution_count": 21,
   "metadata": {},
   "outputs": [],
   "source": [
    "gini = pd.read_csv(\"Gini Coefficient vs PER .csv\")"
   ]
  },
  {
   "cell_type": "code",
   "execution_count": 22,
   "metadata": {},
   "outputs": [
    {
     "data": {
      "text/html": [
       "<div>\n",
       "<style scoped>\n",
       "    .dataframe tbody tr th:only-of-type {\n",
       "        vertical-align: middle;\n",
       "    }\n",
       "\n",
       "    .dataframe tbody tr th {\n",
       "        vertical-align: top;\n",
       "    }\n",
       "\n",
       "    .dataframe thead th {\n",
       "        text-align: right;\n",
       "    }\n",
       "</style>\n",
       "<table border=\"1\" class=\"dataframe\">\n",
       "  <thead>\n",
       "    <tr style=\"text-align: right;\">\n",
       "      <th></th>\n",
       "      <th>Winning Percentage</th>\n",
       "      <th>Average PER</th>\n",
       "      <th>Gini Coefficient of PER</th>\n",
       "      <th>Robin Hood Coefficient of PER</th>\n",
       "      <th>S.D. of PER</th>\n",
       "      <th>Gini Coefficient of Salary</th>\n",
       "      <th>Robin Hood Coefficient of Salary</th>\n",
       "      <th>S.D. of Salary</th>\n",
       "    </tr>\n",
       "  </thead>\n",
       "  <tbody>\n",
       "    <tr>\n",
       "      <th>0</th>\n",
       "      <td>0.536585</td>\n",
       "      <td>12.916667</td>\n",
       "      <td>0.1646</td>\n",
       "      <td>0.1189</td>\n",
       "      <td>3.85</td>\n",
       "      <td>0.5203</td>\n",
       "      <td>0.3998</td>\n",
       "      <td>3902114.952</td>\n",
       "    </tr>\n",
       "    <tr>\n",
       "      <th>1</th>\n",
       "      <td>0.463415</td>\n",
       "      <td>12.072222</td>\n",
       "      <td>0.2314</td>\n",
       "      <td>0.1602</td>\n",
       "      <td>5.61</td>\n",
       "      <td>0.5606</td>\n",
       "      <td>0.4560</td>\n",
       "      <td>3531274.836</td>\n",
       "    </tr>\n",
       "    <tr>\n",
       "      <th>2</th>\n",
       "      <td>0.731707</td>\n",
       "      <td>14.250000</td>\n",
       "      <td>0.1808</td>\n",
       "      <td>0.1279</td>\n",
       "      <td>4.82</td>\n",
       "      <td>0.5029</td>\n",
       "      <td>0.3883</td>\n",
       "      <td>3469592.760</td>\n",
       "    </tr>\n",
       "    <tr>\n",
       "      <th>3</th>\n",
       "      <td>0.585366</td>\n",
       "      <td>13.135294</td>\n",
       "      <td>0.1880</td>\n",
       "      <td>0.1299</td>\n",
       "      <td>4.63</td>\n",
       "      <td>0.5199</td>\n",
       "      <td>0.4098</td>\n",
       "      <td>5194508.144</td>\n",
       "    </tr>\n",
       "    <tr>\n",
       "      <th>4</th>\n",
       "      <td>0.524390</td>\n",
       "      <td>10.645000</td>\n",
       "      <td>0.2558</td>\n",
       "      <td>0.1793</td>\n",
       "      <td>5.96</td>\n",
       "      <td>0.6175</td>\n",
       "      <td>0.4654</td>\n",
       "      <td>5411800.802</td>\n",
       "    </tr>\n",
       "  </tbody>\n",
       "</table>\n",
       "</div>"
      ],
      "text/plain": [
       "   Winning Percentage  Average PER  Gini Coefficient of PER  \\\n",
       "0            0.536585    12.916667                   0.1646   \n",
       "1            0.463415    12.072222                   0.2314   \n",
       "2            0.731707    14.250000                   0.1808   \n",
       "3            0.585366    13.135294                   0.1880   \n",
       "4            0.524390    10.645000                   0.2558   \n",
       "\n",
       "   Robin Hood Coefficient of PER  S.D. of PER  Gini Coefficient of Salary  \\\n",
       "0                         0.1189         3.85                      0.5203   \n",
       "1                         0.1602         5.61                      0.5606   \n",
       "2                         0.1279         4.82                      0.5029   \n",
       "3                         0.1299         4.63                      0.5199   \n",
       "4                         0.1793         5.96                      0.6175   \n",
       "\n",
       "   Robin Hood Coefficient of Salary  S.D. of Salary  \n",
       "0                            0.3998     3902114.952  \n",
       "1                            0.4560     3531274.836  \n",
       "2                            0.3883     3469592.760  \n",
       "3                            0.4098     5194508.144  \n",
       "4                            0.4654     5411800.802  "
      ]
     },
     "execution_count": 22,
     "metadata": {},
     "output_type": "execute_result"
    }
   ],
   "source": [
    "gini.head()"
   ]
  },
  {
   "cell_type": "code",
   "execution_count": 23,
   "metadata": {
    "collapsed": true
   },
   "outputs": [],
   "source": [
    "def standardize(anylist):\n",
    "    return (anylist - np.mean(anylist)) / np.std(anylist)"
   ]
  },
  {
   "cell_type": "code",
   "execution_count": 24,
   "metadata": {
    "collapsed": true
   },
   "outputs": [],
   "source": [
    "def correlation(df, x, y):\n",
    "    x_std = standardize(df[x])\n",
    "    y_std = standardize(df[y])\n",
    "    return np.mean(x_std * y_std)"
   ]
  },
  {
   "cell_type": "code",
   "execution_count": 25,
   "metadata": {},
   "outputs": [
    {
     "data": {
      "text/plain": [
       "0.10004329500341327"
      ]
     },
     "execution_count": 25,
     "metadata": {},
     "output_type": "execute_result"
    }
   ],
   "source": [
    "correlation(gini, \"Robin Hood Coefficient of Salary\", \"Winning Percentage\")"
   ]
  },
  {
   "cell_type": "code",
   "execution_count": 26,
   "metadata": {},
   "outputs": [
    {
     "data": {
      "text/plain": [
       "0.03544937460438107"
      ]
     },
     "execution_count": 26,
     "metadata": {},
     "output_type": "execute_result"
    }
   ],
   "source": [
    "correlation(gini, \"Gini Coefficient of Salary\", \"Winning Percentage\")"
   ]
  },
  {
   "cell_type": "code",
   "execution_count": 27,
   "metadata": {},
   "outputs": [
    {
     "data": {
      "text/plain": [
       "0.30896409994444596"
      ]
     },
     "execution_count": 27,
     "metadata": {},
     "output_type": "execute_result"
    }
   ],
   "source": [
    "correlation(gini, \"S.D. of Salary\", \"Winning Percentage\")"
   ]
  },
  {
   "cell_type": "code",
   "execution_count": 28,
   "metadata": {},
   "outputs": [
    {
     "data": {
      "text/plain": [
       "-0.00932559003086482"
      ]
     },
     "execution_count": 28,
     "metadata": {},
     "output_type": "execute_result"
    }
   ],
   "source": [
    "correlation(gini, \"Robin Hood Coefficient of PER\", \"Winning Percentage\")"
   ]
  },
  {
   "cell_type": "code",
   "execution_count": 29,
   "metadata": {},
   "outputs": [
    {
     "data": {
      "text/plain": [
       "0.14581958873796774"
      ]
     },
     "execution_count": 29,
     "metadata": {},
     "output_type": "execute_result"
    }
   ],
   "source": [
    "correlation(gini, \"Gini Coefficient of PER\", \"Winning Percentage\")"
   ]
  },
  {
   "cell_type": "code",
   "execution_count": 12,
   "metadata": {},
   "outputs": [
    {
     "data": {
      "text/plain": [
       "0.17501239155304535"
      ]
     },
     "execution_count": 12,
     "metadata": {},
     "output_type": "execute_result"
    }
   ],
   "source": [
    "correlation(gini, \"S.D. of PER\", \"Winning Percentage\")"
   ]
  },
  {
   "cell_type": "code",
   "execution_count": 30,
   "metadata": {},
   "outputs": [
    {
     "data": {
      "text/plain": [
       "0.28703480854480923"
      ]
     },
     "execution_count": 30,
     "metadata": {},
     "output_type": "execute_result"
    }
   ],
   "source": [
    "correlation(gini, \"Average PER\", \"Winning Percentage\")"
   ]
  },
  {
   "cell_type": "code",
   "execution_count": 16,
   "metadata": {},
   "outputs": [
    {
     "data": {
      "text/plain": [
       "0.14581958873796774"
      ]
     },
     "execution_count": 16,
     "metadata": {},
     "output_type": "execute_result"
    }
   ],
   "source": [
    "correlation(gini, \"Gini Coefficient of PER\", \"Winning Percentage\")"
   ]
  },
  {
   "cell_type": "code",
   "execution_count": 13,
   "metadata": {},
   "outputs": [
    {
     "data": {
      "text/html": [
       "<table class=\"simpletable\">\n",
       "<caption>OLS Regression Results</caption>\n",
       "<tr>\n",
       "  <th>Dep. Variable:</th>    <td>Winning Percentage</td> <th>  R-squared:         </th> <td>   0.111</td>\n",
       "</tr>\n",
       "<tr>\n",
       "  <th>Model:</th>                    <td>OLS</td>        <th>  Adj. R-squared:    </th> <td>   0.099</td>\n",
       "</tr>\n",
       "<tr>\n",
       "  <th>Method:</th>              <td>Least Squares</td>   <th>  F-statistic:       </th> <td>   9.144</td>\n",
       "</tr>\n",
       "<tr>\n",
       "  <th>Date:</th>              <td>Sat, 10 Mar 2018</td>  <th>  Prob (F-statistic):</th> <td>0.000181</td>\n",
       "</tr>\n",
       "<tr>\n",
       "  <th>Time:</th>                  <td>08:31:03</td>      <th>  Log-Likelihood:    </th> <td>  76.351</td>\n",
       "</tr>\n",
       "<tr>\n",
       "  <th>No. Observations:</th>       <td>   150</td>       <th>  AIC:               </th> <td>  -146.7</td>\n",
       "</tr>\n",
       "<tr>\n",
       "  <th>Df Residuals:</th>           <td>   147</td>       <th>  BIC:               </th> <td>  -137.7</td>\n",
       "</tr>\n",
       "<tr>\n",
       "  <th>Df Model:</th>               <td>     2</td>       <th>                     </th>     <td> </td>   \n",
       "</tr>\n",
       "<tr>\n",
       "  <th>Covariance Type:</th>       <td>nonrobust</td>     <th>                     </th>     <td> </td>   \n",
       "</tr>\n",
       "</table>\n",
       "<table class=\"simpletable\">\n",
       "<tr>\n",
       "         <td></td>           <th>coef</th>     <th>std err</th>      <th>t</th>      <th>P>|t|</th>  <th>[0.025</th>    <th>0.975]</th>  \n",
       "</tr>\n",
       "<tr>\n",
       "  <th>const</th>          <td>    0.3065</td> <td>    0.047</td> <td>    6.515</td> <td> 0.000</td> <td>    0.214</td> <td>    0.399</td>\n",
       "</tr>\n",
       "<tr>\n",
       "  <th>S.D. of PER</th>    <td>    0.0074</td> <td>    0.005</td> <td>    1.584</td> <td> 0.115</td> <td>   -0.002</td> <td>    0.017</td>\n",
       "</tr>\n",
       "<tr>\n",
       "  <th>S.D. of Salary</th> <td> 2.985e-08</td> <td> 8.21e-09</td> <td>    3.637</td> <td> 0.000</td> <td> 1.36e-08</td> <td> 4.61e-08</td>\n",
       "</tr>\n",
       "</table>\n",
       "<table class=\"simpletable\">\n",
       "<tr>\n",
       "  <th>Omnibus:</th>       <td> 1.054</td> <th>  Durbin-Watson:     </th> <td>   0.989</td>\n",
       "</tr>\n",
       "<tr>\n",
       "  <th>Prob(Omnibus):</th> <td> 0.590</td> <th>  Jarque-Bera (JB):  </th> <td>   1.011</td>\n",
       "</tr>\n",
       "<tr>\n",
       "  <th>Skew:</th>          <td> 0.008</td> <th>  Prob(JB):          </th> <td>   0.603</td>\n",
       "</tr>\n",
       "<tr>\n",
       "  <th>Kurtosis:</th>      <td> 2.598</td> <th>  Cond. No.          </th> <td>2.04e+07</td>\n",
       "</tr>\n",
       "</table>"
      ],
      "text/plain": [
       "<class 'statsmodels.iolib.summary.Summary'>\n",
       "\"\"\"\n",
       "                            OLS Regression Results                            \n",
       "==============================================================================\n",
       "Dep. Variable:     Winning Percentage   R-squared:                       0.111\n",
       "Model:                            OLS   Adj. R-squared:                  0.099\n",
       "Method:                 Least Squares   F-statistic:                     9.144\n",
       "Date:                Sat, 10 Mar 2018   Prob (F-statistic):           0.000181\n",
       "Time:                        08:31:03   Log-Likelihood:                 76.351\n",
       "No. Observations:                 150   AIC:                            -146.7\n",
       "Df Residuals:                     147   BIC:                            -137.7\n",
       "Df Model:                           2                                         \n",
       "Covariance Type:            nonrobust                                         \n",
       "==================================================================================\n",
       "                     coef    std err          t      P>|t|      [0.025      0.975]\n",
       "----------------------------------------------------------------------------------\n",
       "const              0.3065      0.047      6.515      0.000       0.214       0.399\n",
       "S.D. of PER        0.0074      0.005      1.584      0.115      -0.002       0.017\n",
       "S.D. of Salary  2.985e-08   8.21e-09      3.637      0.000    1.36e-08    4.61e-08\n",
       "==============================================================================\n",
       "Omnibus:                        1.054   Durbin-Watson:                   0.989\n",
       "Prob(Omnibus):                  0.590   Jarque-Bera (JB):                1.011\n",
       "Skew:                           0.008   Prob(JB):                        0.603\n",
       "Kurtosis:                       2.598   Cond. No.                     2.04e+07\n",
       "==============================================================================\n",
       "\n",
       "Warnings:\n",
       "[1] Standard Errors assume that the covariance matrix of the errors is correctly specified.\n",
       "[2] The condition number is large, 2.04e+07. This might indicate that there are\n",
       "strong multicollinearity or other numerical problems.\n",
       "\"\"\""
      ]
     },
     "execution_count": 13,
     "metadata": {},
     "output_type": "execute_result"
    }
   ],
   "source": [
    "X = gini[[\"S.D. of PER\", \"S.D. of Salary\"]]\n",
    "y = gini[\"Winning Percentage\"]  #we are fitting y =ax_1 + bx_2 +c\n",
    "X = sm.add_constant(X)\n",
    "est = sm.OLS(y, X).fit()\n",
    "est.summary()"
   ]
  },
  {
   "cell_type": "code",
   "execution_count": 48,
   "metadata": {},
   "outputs": [
    {
     "data": {
      "text/html": [
       "<table class=\"simpletable\">\n",
       "<caption>OLS Regression Results</caption>\n",
       "<tr>\n",
       "  <th>Dep. Variable:</th>    <td>Winning Percentage</td> <th>  R-squared:         </th> <td>   0.086</td>\n",
       "</tr>\n",
       "<tr>\n",
       "  <th>Model:</th>                    <td>OLS</td>        <th>  Adj. R-squared:    </th> <td>   0.073</td>\n",
       "</tr>\n",
       "<tr>\n",
       "  <th>Method:</th>              <td>Least Squares</td>   <th>  F-statistic:       </th> <td>   6.894</td>\n",
       "</tr>\n",
       "<tr>\n",
       "  <th>Date:</th>              <td>Sat, 10 Mar 2018</td>  <th>  Prob (F-statistic):</th>  <td>0.00137</td>\n",
       "</tr>\n",
       "<tr>\n",
       "  <th>Time:</th>                  <td>10:13:26</td>      <th>  Log-Likelihood:    </th> <td>  74.281</td>\n",
       "</tr>\n",
       "<tr>\n",
       "  <th>No. Observations:</th>       <td>   150</td>       <th>  AIC:               </th> <td>  -142.6</td>\n",
       "</tr>\n",
       "<tr>\n",
       "  <th>Df Residuals:</th>           <td>   147</td>       <th>  BIC:               </th> <td>  -133.5</td>\n",
       "</tr>\n",
       "<tr>\n",
       "  <th>Df Model:</th>               <td>     2</td>       <th>                     </th>     <td> </td>   \n",
       "</tr>\n",
       "<tr>\n",
       "  <th>Covariance Type:</th>       <td>nonrobust</td>     <th>                     </th>     <td> </td>   \n",
       "</tr>\n",
       "</table>\n",
       "<table class=\"simpletable\">\n",
       "<tr>\n",
       "               <td></td>                 <th>coef</th>     <th>std err</th>      <th>t</th>      <th>P>|t|</th>  <th>[0.025</th>    <th>0.975]</th>  \n",
       "</tr>\n",
       "<tr>\n",
       "  <th>const</th>                      <td>    0.0755</td> <td>    0.134</td> <td>    0.563</td> <td> 0.574</td> <td>   -0.189</td> <td>    0.341</td>\n",
       "</tr>\n",
       "<tr>\n",
       "  <th>Average PER</th>                <td>    0.0286</td> <td>    0.008</td> <td>    3.686</td> <td> 0.000</td> <td>    0.013</td> <td>    0.044</td>\n",
       "</tr>\n",
       "<tr>\n",
       "  <th>Gini Coefficient of Salary</th> <td>    0.1106</td> <td>    0.150</td> <td>    0.735</td> <td> 0.463</td> <td>   -0.187</td> <td>    0.408</td>\n",
       "</tr>\n",
       "</table>\n",
       "<table class=\"simpletable\">\n",
       "<tr>\n",
       "  <th>Omnibus:</th>       <td> 5.455</td> <th>  Durbin-Watson:     </th> <td>   1.031</td>\n",
       "</tr>\n",
       "<tr>\n",
       "  <th>Prob(Omnibus):</th> <td> 0.065</td> <th>  Jarque-Bera (JB):  </th> <td>   3.818</td>\n",
       "</tr>\n",
       "<tr>\n",
       "  <th>Skew:</th>          <td>-0.245</td> <th>  Prob(JB):          </th> <td>   0.148</td>\n",
       "</tr>\n",
       "<tr>\n",
       "  <th>Kurtosis:</th>      <td> 2.391</td> <th>  Cond. No.          </th> <td>    195.</td>\n",
       "</tr>\n",
       "</table>"
      ],
      "text/plain": [
       "<class 'statsmodels.iolib.summary.Summary'>\n",
       "\"\"\"\n",
       "                            OLS Regression Results                            \n",
       "==============================================================================\n",
       "Dep. Variable:     Winning Percentage   R-squared:                       0.086\n",
       "Model:                            OLS   Adj. R-squared:                  0.073\n",
       "Method:                 Least Squares   F-statistic:                     6.894\n",
       "Date:                Sat, 10 Mar 2018   Prob (F-statistic):            0.00137\n",
       "Time:                        10:13:26   Log-Likelihood:                 74.281\n",
       "No. Observations:                 150   AIC:                            -142.6\n",
       "Df Residuals:                     147   BIC:                            -133.5\n",
       "Df Model:                           2                                         \n",
       "Covariance Type:            nonrobust                                         \n",
       "==============================================================================================\n",
       "                                 coef    std err          t      P>|t|      [0.025      0.975]\n",
       "----------------------------------------------------------------------------------------------\n",
       "const                          0.0755      0.134      0.563      0.574      -0.189       0.341\n",
       "Average PER                    0.0286      0.008      3.686      0.000       0.013       0.044\n",
       "Gini Coefficient of Salary     0.1106      0.150      0.735      0.463      -0.187       0.408\n",
       "==============================================================================\n",
       "Omnibus:                        5.455   Durbin-Watson:                   1.031\n",
       "Prob(Omnibus):                  0.065   Jarque-Bera (JB):                3.818\n",
       "Skew:                          -0.245   Prob(JB):                        0.148\n",
       "Kurtosis:                       2.391   Cond. No.                         195.\n",
       "==============================================================================\n",
       "\n",
       "Warnings:\n",
       "[1] Standard Errors assume that the covariance matrix of the errors is correctly specified.\n",
       "\"\"\""
      ]
     },
     "execution_count": 48,
     "metadata": {},
     "output_type": "execute_result"
    }
   ],
   "source": [
    "X = gini[[\"Average PER\", \"Gini Coefficient of Salary\"]]\n",
    "y = gini[\"Winning Percentage\"]  #we are fitting y =ax_1 + bx_2 +c\n",
    "X = sm.add_constant(X)\n",
    "est = sm.OLS(y, X).fit()\n",
    "est.summary()"
   ]
  },
  {
   "cell_type": "code",
   "execution_count": 49,
   "metadata": {},
   "outputs": [
    {
     "data": {
      "text/html": [
       "<table class=\"simpletable\">\n",
       "<caption>OLS Regression Results</caption>\n",
       "<tr>\n",
       "  <th>Dep. Variable:</th>    <td>Winning Percentage</td> <th>  R-squared:         </th> <td>   0.095</td>\n",
       "</tr>\n",
       "<tr>\n",
       "  <th>Model:</th>                    <td>OLS</td>        <th>  Adj. R-squared:    </th> <td>   0.083</td>\n",
       "</tr>\n",
       "<tr>\n",
       "  <th>Method:</th>              <td>Least Squares</td>   <th>  F-statistic:       </th> <td>   7.758</td>\n",
       "</tr>\n",
       "<tr>\n",
       "  <th>Date:</th>              <td>Sat, 10 Mar 2018</td>  <th>  Prob (F-statistic):</th> <td>0.000627</td>\n",
       "</tr>\n",
       "<tr>\n",
       "  <th>Time:</th>                  <td>10:13:49</td>      <th>  Log-Likelihood:    </th> <td>  75.083</td>\n",
       "</tr>\n",
       "<tr>\n",
       "  <th>No. Observations:</th>       <td>   150</td>       <th>  AIC:               </th> <td>  -144.2</td>\n",
       "</tr>\n",
       "<tr>\n",
       "  <th>Df Residuals:</th>           <td>   147</td>       <th>  BIC:               </th> <td>  -135.1</td>\n",
       "</tr>\n",
       "<tr>\n",
       "  <th>Df Model:</th>               <td>     2</td>       <th>                     </th>     <td> </td>   \n",
       "</tr>\n",
       "<tr>\n",
       "  <th>Covariance Type:</th>       <td>nonrobust</td>     <th>                     </th>     <td> </td>   \n",
       "</tr>\n",
       "</table>\n",
       "<table class=\"simpletable\">\n",
       "<tr>\n",
       "                  <td></td>                    <th>coef</th>     <th>std err</th>      <th>t</th>      <th>P>|t|</th>  <th>[0.025</th>    <th>0.975]</th>  \n",
       "</tr>\n",
       "<tr>\n",
       "  <th>const</th>                            <td>    0.0343</td> <td>    0.123</td> <td>    0.278</td> <td> 0.781</td> <td>   -0.209</td> <td>    0.278</td>\n",
       "</tr>\n",
       "<tr>\n",
       "  <th>Average PER</th>                      <td>    0.0288</td> <td>    0.008</td> <td>    3.727</td> <td> 0.000</td> <td>    0.014</td> <td>    0.044</td>\n",
       "</tr>\n",
       "<tr>\n",
       "  <th>Robin Hood Coefficient of Salary</th> <td>    0.2328</td> <td>    0.160</td> <td>    1.458</td> <td> 0.147</td> <td>   -0.083</td> <td>    0.548</td>\n",
       "</tr>\n",
       "</table>\n",
       "<table class=\"simpletable\">\n",
       "<tr>\n",
       "  <th>Omnibus:</th>       <td> 5.395</td> <th>  Durbin-Watson:     </th> <td>   1.045</td>\n",
       "</tr>\n",
       "<tr>\n",
       "  <th>Prob(Omnibus):</th> <td> 0.067</td> <th>  Jarque-Bera (JB):  </th> <td>   4.124</td>\n",
       "</tr>\n",
       "<tr>\n",
       "  <th>Skew:</th>          <td>-0.286</td> <th>  Prob(JB):          </th> <td>   0.127</td>\n",
       "</tr>\n",
       "<tr>\n",
       "  <th>Kurtosis:</th>      <td> 2.424</td> <th>  Cond. No.          </th> <td>    193.</td>\n",
       "</tr>\n",
       "</table>"
      ],
      "text/plain": [
       "<class 'statsmodels.iolib.summary.Summary'>\n",
       "\"\"\"\n",
       "                            OLS Regression Results                            \n",
       "==============================================================================\n",
       "Dep. Variable:     Winning Percentage   R-squared:                       0.095\n",
       "Model:                            OLS   Adj. R-squared:                  0.083\n",
       "Method:                 Least Squares   F-statistic:                     7.758\n",
       "Date:                Sat, 10 Mar 2018   Prob (F-statistic):           0.000627\n",
       "Time:                        10:13:49   Log-Likelihood:                 75.083\n",
       "No. Observations:                 150   AIC:                            -144.2\n",
       "Df Residuals:                     147   BIC:                            -135.1\n",
       "Df Model:                           2                                         \n",
       "Covariance Type:            nonrobust                                         \n",
       "====================================================================================================\n",
       "                                       coef    std err          t      P>|t|      [0.025      0.975]\n",
       "----------------------------------------------------------------------------------------------------\n",
       "const                                0.0343      0.123      0.278      0.781      -0.209       0.278\n",
       "Average PER                          0.0288      0.008      3.727      0.000       0.014       0.044\n",
       "Robin Hood Coefficient of Salary     0.2328      0.160      1.458      0.147      -0.083       0.548\n",
       "==============================================================================\n",
       "Omnibus:                        5.395   Durbin-Watson:                   1.045\n",
       "Prob(Omnibus):                  0.067   Jarque-Bera (JB):                4.124\n",
       "Skew:                          -0.286   Prob(JB):                        0.127\n",
       "Kurtosis:                       2.424   Cond. No.                         193.\n",
       "==============================================================================\n",
       "\n",
       "Warnings:\n",
       "[1] Standard Errors assume that the covariance matrix of the errors is correctly specified.\n",
       "\"\"\""
      ]
     },
     "execution_count": 49,
     "metadata": {},
     "output_type": "execute_result"
    }
   ],
   "source": [
    "X = gini[[\"Average PER\", \"Robin Hood Coefficient of Salary\"]]\n",
    "y = gini[\"Winning Percentage\"]  #we are fitting y =ax_1 + bx_2 +c\n",
    "X = sm.add_constant(X)\n",
    "est = sm.OLS(y, X).fit()\n",
    "est.summary()"
   ]
  },
  {
   "cell_type": "code",
   "execution_count": 54,
   "metadata": {},
   "outputs": [
    {
     "data": {
      "text/html": [
       "<table class=\"simpletable\">\n",
       "<caption>OLS Regression Results</caption>\n",
       "<tr>\n",
       "  <th>Dep. Variable:</th>    <td>Winning Percentage</td> <th>  R-squared:         </th> <td>   0.086</td>\n",
       "</tr>\n",
       "<tr>\n",
       "  <th>Model:</th>                    <td>OLS</td>        <th>  Adj. R-squared:    </th> <td>   0.073</td>\n",
       "</tr>\n",
       "<tr>\n",
       "  <th>Method:</th>              <td>Least Squares</td>   <th>  F-statistic:       </th> <td>   6.894</td>\n",
       "</tr>\n",
       "<tr>\n",
       "  <th>Date:</th>              <td>Sun, 11 Mar 2018</td>  <th>  Prob (F-statistic):</th>  <td>0.00137</td>\n",
       "</tr>\n",
       "<tr>\n",
       "  <th>Time:</th>                  <td>00:38:04</td>      <th>  Log-Likelihood:    </th> <td>  74.281</td>\n",
       "</tr>\n",
       "<tr>\n",
       "  <th>No. Observations:</th>       <td>   150</td>       <th>  AIC:               </th> <td>  -142.6</td>\n",
       "</tr>\n",
       "<tr>\n",
       "  <th>Df Residuals:</th>           <td>   147</td>       <th>  BIC:               </th> <td>  -133.5</td>\n",
       "</tr>\n",
       "<tr>\n",
       "  <th>Df Model:</th>               <td>     2</td>       <th>                     </th>     <td> </td>   \n",
       "</tr>\n",
       "<tr>\n",
       "  <th>Covariance Type:</th>       <td>nonrobust</td>     <th>                     </th>     <td> </td>   \n",
       "</tr>\n",
       "</table>\n",
       "<table class=\"simpletable\">\n",
       "<tr>\n",
       "               <td></td>                 <th>coef</th>     <th>std err</th>      <th>t</th>      <th>P>|t|</th>  <th>[0.025</th>    <th>0.975]</th>  \n",
       "</tr>\n",
       "<tr>\n",
       "  <th>const</th>                      <td>    0.0755</td> <td>    0.134</td> <td>    0.563</td> <td> 0.574</td> <td>   -0.189</td> <td>    0.341</td>\n",
       "</tr>\n",
       "<tr>\n",
       "  <th>Average PER</th>                <td>    0.0286</td> <td>    0.008</td> <td>    3.686</td> <td> 0.000</td> <td>    0.013</td> <td>    0.044</td>\n",
       "</tr>\n",
       "<tr>\n",
       "  <th>Gini Coefficient of Salary</th> <td>    0.1106</td> <td>    0.150</td> <td>    0.735</td> <td> 0.463</td> <td>   -0.187</td> <td>    0.408</td>\n",
       "</tr>\n",
       "</table>\n",
       "<table class=\"simpletable\">\n",
       "<tr>\n",
       "  <th>Omnibus:</th>       <td> 5.455</td> <th>  Durbin-Watson:     </th> <td>   1.031</td>\n",
       "</tr>\n",
       "<tr>\n",
       "  <th>Prob(Omnibus):</th> <td> 0.065</td> <th>  Jarque-Bera (JB):  </th> <td>   3.818</td>\n",
       "</tr>\n",
       "<tr>\n",
       "  <th>Skew:</th>          <td>-0.245</td> <th>  Prob(JB):          </th> <td>   0.148</td>\n",
       "</tr>\n",
       "<tr>\n",
       "  <th>Kurtosis:</th>      <td> 2.391</td> <th>  Cond. No.          </th> <td>    195.</td>\n",
       "</tr>\n",
       "</table>"
      ],
      "text/plain": [
       "<class 'statsmodels.iolib.summary.Summary'>\n",
       "\"\"\"\n",
       "                            OLS Regression Results                            \n",
       "==============================================================================\n",
       "Dep. Variable:     Winning Percentage   R-squared:                       0.086\n",
       "Model:                            OLS   Adj. R-squared:                  0.073\n",
       "Method:                 Least Squares   F-statistic:                     6.894\n",
       "Date:                Sun, 11 Mar 2018   Prob (F-statistic):            0.00137\n",
       "Time:                        00:38:04   Log-Likelihood:                 74.281\n",
       "No. Observations:                 150   AIC:                            -142.6\n",
       "Df Residuals:                     147   BIC:                            -133.5\n",
       "Df Model:                           2                                         \n",
       "Covariance Type:            nonrobust                                         \n",
       "==============================================================================================\n",
       "                                 coef    std err          t      P>|t|      [0.025      0.975]\n",
       "----------------------------------------------------------------------------------------------\n",
       "const                          0.0755      0.134      0.563      0.574      -0.189       0.341\n",
       "Average PER                    0.0286      0.008      3.686      0.000       0.013       0.044\n",
       "Gini Coefficient of Salary     0.1106      0.150      0.735      0.463      -0.187       0.408\n",
       "==============================================================================\n",
       "Omnibus:                        5.455   Durbin-Watson:                   1.031\n",
       "Prob(Omnibus):                  0.065   Jarque-Bera (JB):                3.818\n",
       "Skew:                          -0.245   Prob(JB):                        0.148\n",
       "Kurtosis:                       2.391   Cond. No.                         195.\n",
       "==============================================================================\n",
       "\n",
       "Warnings:\n",
       "[1] Standard Errors assume that the covariance matrix of the errors is correctly specified.\n",
       "\"\"\""
      ]
     },
     "execution_count": 54,
     "metadata": {},
     "output_type": "execute_result"
    }
   ],
   "source": [
    "X = gini[[\"Average PER\", \"Gini Coefficient of Salary\"]]\n",
    "y = gini[\"Winning Percentage\"]  #we are fitting y =ax_1 + bx_2 +c\n",
    "X = sm.add_constant(X)\n",
    "est = sm.OLS(y, X).fit()\n",
    "est.summary()"
   ]
  },
  {
   "cell_type": "code",
   "execution_count": 55,
   "metadata": {},
   "outputs": [
    {
     "data": {
      "text/html": [
       "<table class=\"simpletable\">\n",
       "<caption>OLS Regression Results</caption>\n",
       "<tr>\n",
       "  <th>Dep. Variable:</th>    <td>Winning Percentage</td> <th>  R-squared:         </th> <td>   0.021</td>\n",
       "</tr>\n",
       "<tr>\n",
       "  <th>Model:</th>                    <td>OLS</td>        <th>  Adj. R-squared:    </th> <td>   0.008</td>\n",
       "</tr>\n",
       "<tr>\n",
       "  <th>Method:</th>              <td>Least Squares</td>   <th>  F-statistic:       </th> <td>   1.599</td>\n",
       "</tr>\n",
       "<tr>\n",
       "  <th>Date:</th>              <td>Sun, 11 Mar 2018</td>  <th>  Prob (F-statistic):</th>  <td> 0.206</td> \n",
       "</tr>\n",
       "<tr>\n",
       "  <th>Time:</th>                  <td>00:46:35</td>      <th>  Log-Likelihood:    </th> <td>  69.171</td>\n",
       "</tr>\n",
       "<tr>\n",
       "  <th>No. Observations:</th>       <td>   150</td>       <th>  AIC:               </th> <td>  -132.3</td>\n",
       "</tr>\n",
       "<tr>\n",
       "  <th>Df Residuals:</th>           <td>   147</td>       <th>  BIC:               </th> <td>  -123.3</td>\n",
       "</tr>\n",
       "<tr>\n",
       "  <th>Df Model:</th>               <td>     2</td>       <th>                     </th>     <td> </td>   \n",
       "</tr>\n",
       "<tr>\n",
       "  <th>Covariance Type:</th>       <td>nonrobust</td>     <th>                     </th>     <td> </td>   \n",
       "</tr>\n",
       "</table>\n",
       "<table class=\"simpletable\">\n",
       "<tr>\n",
       "               <td></td>                 <th>coef</th>     <th>std err</th>      <th>t</th>      <th>P>|t|</th>  <th>[0.025</th>    <th>0.975]</th>  \n",
       "</tr>\n",
       "<tr>\n",
       "  <th>const</th>                      <td>    0.4159</td> <td>    0.090</td> <td>    4.606</td> <td> 0.000</td> <td>    0.237</td> <td>    0.594</td>\n",
       "</tr>\n",
       "<tr>\n",
       "  <th>Gini Coefficient of PER</th>    <td>    0.3953</td> <td>    0.228</td> <td>    1.735</td> <td> 0.085</td> <td>   -0.055</td> <td>    0.846</td>\n",
       "</tr>\n",
       "<tr>\n",
       "  <th>Gini Coefficient of Salary</th> <td>   -0.0098</td> <td>    0.161</td> <td>   -0.061</td> <td> 0.951</td> <td>   -0.329</td> <td>    0.309</td>\n",
       "</tr>\n",
       "</table>\n",
       "<table class=\"simpletable\">\n",
       "<tr>\n",
       "  <th>Omnibus:</th>       <td> 1.329</td> <th>  Durbin-Watson:     </th> <td>   0.911</td>\n",
       "</tr>\n",
       "<tr>\n",
       "  <th>Prob(Omnibus):</th> <td> 0.515</td> <th>  Jarque-Bera (JB):  </th> <td>   1.190</td>\n",
       "</tr>\n",
       "<tr>\n",
       "  <th>Skew:</th>          <td> 0.042</td> <th>  Prob(JB):          </th> <td>   0.552</td>\n",
       "</tr>\n",
       "<tr>\n",
       "  <th>Kurtosis:</th>      <td> 2.572</td> <th>  Cond. No.          </th> <td>    21.8</td>\n",
       "</tr>\n",
       "</table>"
      ],
      "text/plain": [
       "<class 'statsmodels.iolib.summary.Summary'>\n",
       "\"\"\"\n",
       "                            OLS Regression Results                            \n",
       "==============================================================================\n",
       "Dep. Variable:     Winning Percentage   R-squared:                       0.021\n",
       "Model:                            OLS   Adj. R-squared:                  0.008\n",
       "Method:                 Least Squares   F-statistic:                     1.599\n",
       "Date:                Sun, 11 Mar 2018   Prob (F-statistic):              0.206\n",
       "Time:                        00:46:35   Log-Likelihood:                 69.171\n",
       "No. Observations:                 150   AIC:                            -132.3\n",
       "Df Residuals:                     147   BIC:                            -123.3\n",
       "Df Model:                           2                                         \n",
       "Covariance Type:            nonrobust                                         \n",
       "==============================================================================================\n",
       "                                 coef    std err          t      P>|t|      [0.025      0.975]\n",
       "----------------------------------------------------------------------------------------------\n",
       "const                          0.4159      0.090      4.606      0.000       0.237       0.594\n",
       "Gini Coefficient of PER        0.3953      0.228      1.735      0.085      -0.055       0.846\n",
       "Gini Coefficient of Salary    -0.0098      0.161     -0.061      0.951      -0.329       0.309\n",
       "==============================================================================\n",
       "Omnibus:                        1.329   Durbin-Watson:                   0.911\n",
       "Prob(Omnibus):                  0.515   Jarque-Bera (JB):                1.190\n",
       "Skew:                           0.042   Prob(JB):                        0.552\n",
       "Kurtosis:                       2.572   Cond. No.                         21.8\n",
       "==============================================================================\n",
       "\n",
       "Warnings:\n",
       "[1] Standard Errors assume that the covariance matrix of the errors is correctly specified.\n",
       "\"\"\""
      ]
     },
     "execution_count": 55,
     "metadata": {},
     "output_type": "execute_result"
    }
   ],
   "source": [
    "X = gini[[\"Gini Coefficient of PER\", \"Gini Coefficient of Salary\"]]\n",
    "y = gini[\"Winning Percentage\"]  #we are fitting y =ax_1 + bx_2 +c\n",
    "X = sm.add_constant(X)\n",
    "est = sm.OLS(y, X).fit()\n",
    "est.summary()"
   ]
  },
  {
   "cell_type": "code",
   "execution_count": null,
   "metadata": {
    "collapsed": true
   },
   "outputs": [],
   "source": []
  }
 ],
 "metadata": {
  "kernelspec": {
   "display_name": "Python 3",
   "language": "python",
   "name": "python3"
  },
  "language_info": {
   "codemirror_mode": {
    "name": "ipython",
    "version": 3
   },
   "file_extension": ".py",
   "mimetype": "text/x-python",
   "name": "python",
   "nbconvert_exporter": "python",
   "pygments_lexer": "ipython3",
   "version": "3.6.3"
  }
 },
 "nbformat": 4,
 "nbformat_minor": 2
}
